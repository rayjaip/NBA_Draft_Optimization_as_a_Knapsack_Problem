{
 "cells": [
  {
   "cell_type": "code",
   "execution_count": 13,
   "id": "0bb2ced2",
   "metadata": {},
   "outputs": [],
   "source": [
    "import numpy as np\n",
    "import sympy as sym\n",
    "from sympy.functions.elementary.miscellaneous import cbrt, sqrt\n",
    "import pandas as pd\n",
    "from scipy import linalg\n",
    "from pulp import LpMaximize, LpMinimize, LpProblem, LpVariable, value, LpStatus, lpSum, GLPK\n",
    "\n",
    "# Set up notebook to display multiple outputs in one cell\n",
    "from IPython.core.interactiveshell import InteractiveShell\n",
    "InteractiveShell.ast_node_interactivity = \"all\""
   ]
  },
  {
   "cell_type": "code",
   "execution_count": 14,
   "id": "10305da4",
   "metadata": {},
   "outputs": [
    {
     "data": {
      "text/plain": [
       "'ORL'"
      ]
     },
     "execution_count": 14,
     "metadata": {},
     "output_type": "execute_result"
    },
    {
     "data": {
      "text/plain": [
       "'OKC'"
      ]
     },
     "execution_count": 14,
     "metadata": {},
     "output_type": "execute_result"
    },
    {
     "data": {
      "text/plain": [
       "'T_HOU'"
      ]
     },
     "execution_count": 14,
     "metadata": {},
     "output_type": "execute_result"
    },
    {
     "data": {
      "text/plain": [
       "'SAC'"
      ]
     },
     "execution_count": 14,
     "metadata": {},
     "output_type": "execute_result"
    },
    {
     "data": {
      "text/plain": [
       "'DET'"
      ]
     },
     "execution_count": 14,
     "metadata": {},
     "output_type": "execute_result"
    },
    {
     "data": {
      "text/plain": [
       "'IND'"
      ]
     },
     "execution_count": 14,
     "metadata": {},
     "output_type": "execute_result"
    },
    {
     "data": {
      "text/plain": [
       "'POR'"
      ]
     },
     "execution_count": 14,
     "metadata": {},
     "output_type": "execute_result"
    },
    {
     "data": {
      "text/plain": [
       "'NOP'"
      ]
     },
     "execution_count": 14,
     "metadata": {},
     "output_type": "execute_result"
    },
    {
     "data": {
      "text/plain": [
       "'SAS'"
      ]
     },
     "execution_count": 14,
     "metadata": {},
     "output_type": "execute_result"
    },
    {
     "data": {
      "text/plain": [
       "'WAS'"
      ]
     },
     "execution_count": 14,
     "metadata": {},
     "output_type": "execute_result"
    },
    {
     "data": {
      "text/plain": [
       "'NYK'"
      ]
     },
     "execution_count": 14,
     "metadata": {},
     "output_type": "execute_result"
    },
    {
     "data": {
      "text/plain": [
       "'OKC2'"
      ]
     },
     "execution_count": 14,
     "metadata": {},
     "output_type": "execute_result"
    },
    {
     "data": {
      "text/plain": [
       "'CHO'"
      ]
     },
     "execution_count": 14,
     "metadata": {},
     "output_type": "execute_result"
    },
    {
     "data": {
      "text/plain": [
       "'CLE'"
      ]
     },
     "execution_count": 14,
     "metadata": {},
     "output_type": "execute_result"
    },
    {
     "data": {
      "text/plain": [
       "'CHO2'"
      ]
     },
     "execution_count": 14,
     "metadata": {},
     "output_type": "execute_result"
    },
    {
     "data": {
      "text/plain": [
       "'ATL'"
      ]
     },
     "execution_count": 14,
     "metadata": {},
     "output_type": "execute_result"
    },
    {
     "data": {
      "text/plain": [
       "'T_HOU2'"
      ]
     },
     "execution_count": 14,
     "metadata": {},
     "output_type": "execute_result"
    }
   ],
   "source": [
    "df = pd.read_csv('2022_Draft_Weights.csv')\n",
    "for i in df.columns[7:24]:\n",
    "    i"
   ]
  },
  {
   "cell_type": "code",
   "execution_count": 15,
   "id": "74224925",
   "metadata": {
    "scrolled": true
   },
   "outputs": [
    {
     "data": {
      "text/plain": [
       "'Optimal'"
      ]
     },
     "execution_count": 15,
     "metadata": {},
     "output_type": "execute_result"
    },
    {
     "data": {
      "text/plain": [
       "(0, x0)"
      ]
     },
     "execution_count": 15,
     "metadata": {},
     "output_type": "execute_result"
    },
    {
     "data": {
      "text/plain": [
       "[['ORL', 'Paolo Banchero']]"
      ]
     },
     "execution_count": 15,
     "metadata": {},
     "output_type": "execute_result"
    },
    {
     "data": {
      "text/plain": [
       "[1,\n",
       " 2,\n",
       " 3,\n",
       " 4,\n",
       " 5,\n",
       " 6,\n",
       " 7,\n",
       " 8,\n",
       " 9,\n",
       " 10,\n",
       " 11,\n",
       " 12,\n",
       " 13,\n",
       " 14,\n",
       " 15,\n",
       " 16,\n",
       " 17,\n",
       " 18,\n",
       " 19,\n",
       " 20,\n",
       " 21,\n",
       " 22,\n",
       " 23,\n",
       " 24,\n",
       " 25,\n",
       " 26,\n",
       " 27,\n",
       " 28,\n",
       " 29]"
      ]
     },
     "execution_count": 15,
     "metadata": {},
     "output_type": "execute_result"
    },
    {
     "data": {
      "text/plain": [
       "'Optimal'"
      ]
     },
     "execution_count": 15,
     "metadata": {},
     "output_type": "execute_result"
    },
    {
     "data": {
      "text/plain": [
       "(11, x12)"
      ]
     },
     "execution_count": 15,
     "metadata": {},
     "output_type": "execute_result"
    },
    {
     "data": {
      "text/plain": [
       "[['ORL', 'Paolo Banchero'], ['OKC', 'Jalen Duren']]"
      ]
     },
     "execution_count": 15,
     "metadata": {},
     "output_type": "execute_result"
    },
    {
     "data": {
      "text/plain": [
       "[1,\n",
       " 2,\n",
       " 3,\n",
       " 4,\n",
       " 5,\n",
       " 6,\n",
       " 7,\n",
       " 8,\n",
       " 9,\n",
       " 10,\n",
       " 11,\n",
       " 13,\n",
       " 14,\n",
       " 15,\n",
       " 16,\n",
       " 17,\n",
       " 18,\n",
       " 19,\n",
       " 20,\n",
       " 21,\n",
       " 22,\n",
       " 23,\n",
       " 24,\n",
       " 25,\n",
       " 26,\n",
       " 27,\n",
       " 28,\n",
       " 29]"
      ]
     },
     "execution_count": 15,
     "metadata": {},
     "output_type": "execute_result"
    },
    {
     "data": {
      "text/plain": [
       "'Optimal'"
      ]
     },
     "execution_count": 15,
     "metadata": {},
     "output_type": "execute_result"
    },
    {
     "data": {
      "text/plain": [
       "[x1,\n",
       " x2,\n",
       " x3,\n",
       " x4,\n",
       " x5,\n",
       " x6,\n",
       " x7,\n",
       " x8,\n",
       " x9,\n",
       " x10,\n",
       " x11,\n",
       " x13,\n",
       " x14,\n",
       " x15,\n",
       " x16,\n",
       " x17,\n",
       " x18,\n",
       " x19,\n",
       " x20,\n",
       " x21,\n",
       " x22,\n",
       " x23,\n",
       " x24,\n",
       " x25,\n",
       " x26,\n",
       " x27,\n",
       " x28,\n",
       " x29]"
      ]
     },
     "execution_count": 15,
     "metadata": {},
     "output_type": "execute_result"
    },
    {
     "data": {
      "text/plain": [
       "(10, x11)"
      ]
     },
     "execution_count": 15,
     "metadata": {},
     "output_type": "execute_result"
    },
    {
     "data": {
      "text/plain": [
       "[['ORL', 'Paolo Banchero'],\n",
       " ['OKC', 'Jalen Duren'],\n",
       " ['T_HOU', 'Jalen Williams']]"
      ]
     },
     "execution_count": 15,
     "metadata": {},
     "output_type": "execute_result"
    },
    {
     "data": {
      "text/plain": [
       "[1,\n",
       " 2,\n",
       " 3,\n",
       " 4,\n",
       " 5,\n",
       " 6,\n",
       " 7,\n",
       " 8,\n",
       " 9,\n",
       " 10,\n",
       " 13,\n",
       " 14,\n",
       " 15,\n",
       " 16,\n",
       " 17,\n",
       " 18,\n",
       " 19,\n",
       " 20,\n",
       " 21,\n",
       " 22,\n",
       " 23,\n",
       " 24,\n",
       " 25,\n",
       " 26,\n",
       " 27,\n",
       " 28,\n",
       " 29]"
      ]
     },
     "execution_count": 15,
     "metadata": {},
     "output_type": "execute_result"
    }
   ],
   "source": [
    "# Testing the loops (Not the final model)\n",
    "\n",
    "chosen=[]\n",
    "players = list(df.index)\n",
    "playernames = list(df['Player'])\n",
    "\n",
    "# Team loop ->\n",
    "\n",
    "prob = LpProblem(sense=LpMaximize)\n",
    "obfunc=[]\n",
    "var=[]\n",
    "\n",
    "for player in players:\n",
    "    c = df['ORL'][player]\n",
    "    q = df['Player Rating'][player]\n",
    "    x = LpVariable(f'x{player}', 0, 1, cat='Integer')\n",
    "    var.append(x)\n",
    "    obfunc.append(c*q*x)\n",
    "prob += sum(obfunc)\n",
    "prob += sum(var) <=1\n",
    "LpStatus[prob.solve()]\n",
    "for i in enumerate(var):\n",
    "    if i[1].value() == 1:\n",
    "        i\n",
    "        chosen.append(['ORL',playernames[i[0]]])\n",
    "        del players[i[0]]\n",
    "        del playernames[i[0]]\n",
    "       # del var[i]\n",
    "        \n",
    "chosen\n",
    "players\n",
    "\n",
    "#loop 2\n",
    "\n",
    "prob = LpProblem(sense=LpMaximize)\n",
    "obfunc=[]\n",
    "var=[]\n",
    "\n",
    "for player in players:\n",
    "    c = df['OKC'][player]\n",
    "    q = df['Player Rating'][player]\n",
    "    x = LpVariable(f'x{player}', 0, 1, cat='Integer')\n",
    "    var.append(x)\n",
    "    obfunc.append(c*q*x)\n",
    "prob += sum(obfunc)\n",
    "prob += sum(var) <=1\n",
    "LpStatus[prob.solve()]\n",
    "for i in enumerate(var):\n",
    "    if i[1].value() == 1:\n",
    "        i\n",
    "        chosen.append(['OKC',playernames[i[0]]])\n",
    "        del players[i[0]]\n",
    "        del playernames[i[0]]\n",
    "       # del var[i]\n",
    "        \n",
    "chosen\n",
    "players\n",
    "\n",
    "#loop 4\n",
    "\n",
    "prob = LpProblem(sense=LpMaximize)\n",
    "obfunc=[]\n",
    "var=[]\n",
    "\n",
    "for player in players:\n",
    "    c = df['T_HOU'][player]\n",
    "    q = df['Player Rating'][player]\n",
    "    x = LpVariable(f'x{player}', 0, 1, cat='Integer')\n",
    "    var.append(x)\n",
    "    obfunc.append(c*q*x)\n",
    "prob += sum(obfunc)\n",
    "prob += sum(var) <=1\n",
    "LpStatus[prob.solve()]\n",
    "varcopy = var.copy()\n",
    "var\n",
    "for i in enumerate(var):\n",
    "    if i[1].value() == 1:\n",
    "        i\n",
    "        chosen.append(['T_HOU',playernames[i[0]]])\n",
    "        del players[i[0]]\n",
    "        del playernames[i[0]]\n",
    "       # del var[i]\n",
    "        \n",
    "chosen\n",
    "players"
   ]
  },
  {
   "cell_type": "code",
   "execution_count": 16,
   "id": "87181a90",
   "metadata": {},
   "outputs": [
    {
     "data": {
      "text/plain": [
       "1"
      ]
     },
     "execution_count": 16,
     "metadata": {},
     "output_type": "execute_result"
    },
    {
     "data": {
      "text/plain": [
       "1"
      ]
     },
     "execution_count": 16,
     "metadata": {},
     "output_type": "execute_result"
    },
    {
     "data": {
      "text/plain": [
       "1"
      ]
     },
     "execution_count": 16,
     "metadata": {},
     "output_type": "execute_result"
    },
    {
     "data": {
      "text/plain": [
       "1"
      ]
     },
     "execution_count": 16,
     "metadata": {},
     "output_type": "execute_result"
    },
    {
     "data": {
      "text/plain": [
       "1"
      ]
     },
     "execution_count": 16,
     "metadata": {},
     "output_type": "execute_result"
    },
    {
     "data": {
      "text/plain": [
       "1"
      ]
     },
     "execution_count": 16,
     "metadata": {},
     "output_type": "execute_result"
    },
    {
     "data": {
      "text/plain": [
       "1"
      ]
     },
     "execution_count": 16,
     "metadata": {},
     "output_type": "execute_result"
    },
    {
     "data": {
      "text/plain": [
       "1"
      ]
     },
     "execution_count": 16,
     "metadata": {},
     "output_type": "execute_result"
    },
    {
     "data": {
      "text/plain": [
       "1"
      ]
     },
     "execution_count": 16,
     "metadata": {},
     "output_type": "execute_result"
    },
    {
     "data": {
      "text/plain": [
       "1"
      ]
     },
     "execution_count": 16,
     "metadata": {},
     "output_type": "execute_result"
    },
    {
     "data": {
      "text/plain": [
       "1"
      ]
     },
     "execution_count": 16,
     "metadata": {},
     "output_type": "execute_result"
    },
    {
     "data": {
      "text/plain": [
       "1"
      ]
     },
     "execution_count": 16,
     "metadata": {},
     "output_type": "execute_result"
    },
    {
     "data": {
      "text/plain": [
       "1"
      ]
     },
     "execution_count": 16,
     "metadata": {},
     "output_type": "execute_result"
    },
    {
     "data": {
      "text/plain": [
       "1"
      ]
     },
     "execution_count": 16,
     "metadata": {},
     "output_type": "execute_result"
    },
    {
     "data": {
      "text/plain": [
       "1"
      ]
     },
     "execution_count": 16,
     "metadata": {},
     "output_type": "execute_result"
    },
    {
     "data": {
      "text/plain": [
       "1"
      ]
     },
     "execution_count": 16,
     "metadata": {},
     "output_type": "execute_result"
    },
    {
     "data": {
      "text/plain": [
       "1"
      ]
     },
     "execution_count": 16,
     "metadata": {},
     "output_type": "execute_result"
    },
    {
     "name": "stdout",
     "output_type": "stream",
     "text": [
      "\n",
      "Team picks\n"
     ]
    },
    {
     "data": {
      "text/plain": [
       "[['ORL', 'Paolo Banchero', 20.9146],\n",
       " ['OKC', 'Jalen Duren', 19.0934],\n",
       " ['T_HOU', 'Jalen Williams', 16.878],\n",
       " ['SAC', 'Jabari Smith Jr.', 14.719],\n",
       " ['DET', 'Jaden Ivey', 14.8676],\n",
       " ['IND', 'Chet Holmgren', 19.045],\n",
       " ['POR', 'Mark Williams', 14.9842],\n",
       " ['NOP', 'Walker Kessler', 14.903],\n",
       " ['SAS', 'Jeremy Sochan', 13.9172],\n",
       " ['WAS', 'Shaedon Sharpe', 10.362],\n",
       " ['NYK', 'Bennedict Mathurin', 12.6362],\n",
       " ['OKC2', 'Keegan Murray', 12.6198],\n",
       " ['CHO', 'Tari Eason', 11.5488],\n",
       " ['CLE', 'Nikola Jović', 8.4453],\n",
       " ['CHO2', 'Malaki Branham', 8.5292],\n",
       " ['ATL', 'Christian Braun', 7.1853],\n",
       " ['T_HOU2', 'David Roddy', 6.7456]]"
      ]
     },
     "execution_count": 16,
     "metadata": {},
     "output_type": "execute_result"
    },
    {
     "name": "stdout",
     "output_type": "stream",
     "text": [
      "\n",
      "players not chosen\n"
     ]
    },
    {
     "data": {
      "text/plain": [
       "['Dyson Daniels',\n",
       " 'Johnny Davis',\n",
       " 'Ousmane Dieng',\n",
       " 'Ochai Agbaji',\n",
       " 'AJ Griffin',\n",
       " 'Dalen Terry',\n",
       " 'Jake LaRavia',\n",
       " 'MarJon Beauchamp',\n",
       " 'Blake Wesley',\n",
       " 'Wendell Moore Jr.',\n",
       " 'Patrick Baldwin Jr.',\n",
       " 'TyTy Washington Jr.',\n",
       " 'Peyton Watson']"
      ]
     },
     "execution_count": 16,
     "metadata": {},
     "output_type": "execute_result"
    }
   ],
   "source": [
    "# The final model that makes picks for all teams\n",
    "\n",
    "teams = df.columns[7:24]\n",
    "chosen=[]\n",
    "players = list(df.index)\n",
    "playernames = list(df['Player'])\n",
    "playerrating = list(df['Player Rating'])\n",
    "\n",
    "for team in teams:\n",
    "    prob = LpProblem(sense=LpMaximize)\n",
    "    obfunc=[]\n",
    "    var=[]\n",
    "\n",
    "    for player in players:\n",
    "        c = df[team][player]\n",
    "        q = df['Player Rating'][player]\n",
    "        x = LpVariable(f'x{player}', 0, 1, cat='Integer')\n",
    "        var.append(x)\n",
    "        obfunc.append(c*q*x)\n",
    "    prob += sum(obfunc)\n",
    "    prob += sum(var) <=1\n",
    "    prob.solve()\n",
    "    #prob.writeLP(f\"{team}.lp\")  \n",
    "    for i in enumerate(var):\n",
    "        if i[1].value() == 1:\n",
    "            chosen.append([team, playernames[i[0]], playerrating[i[0]]])\n",
    "            del players[i[0]]\n",
    "            del playernames[i[0]]\n",
    "            del playerrating[i[0]]\n",
    "        \n",
    "\n",
    "print('\\nTeam picks')\n",
    "chosen\n",
    "print('\\nplayers not chosen')\n",
    "#players\n",
    "playernames"
   ]
  }
 ],
 "metadata": {
  "kernelspec": {
   "display_name": "Python 3 (ipykernel)",
   "language": "python",
   "name": "python3"
  },
  "language_info": {
   "codemirror_mode": {
    "name": "ipython",
    "version": 3
   },
   "file_extension": ".py",
   "mimetype": "text/x-python",
   "name": "python",
   "nbconvert_exporter": "python",
   "pygments_lexer": "ipython3",
   "version": "3.10.11"
  }
 },
 "nbformat": 4,
 "nbformat_minor": 5
}
